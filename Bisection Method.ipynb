{
 "cells": [
  {
   "cell_type": "code",
   "execution_count": 1,
   "id": "44c86a8d",
   "metadata": {},
   "outputs": [],
   "source": [
    "#1. Choose an interval [a, b] where the function changes sign.\n",
    "#2. Calculate the midpoint c = (a + b) / 2 and evaluate f(c).\n",
    "#3. If |f(c)| ≤ ε, c is an acceptable root approximation.\n",
    "#4. If f(c) and f(a) have different signs, update a = c.\n",
    "#5. If f(c) and f(b) have different signs, update b = c.\n",
    "#6. Repeat steps 2-5 until |f(c)| ≤ ε.\n",
    "#7. The final c is an approximation of the root within the tolerance ε."
   ]
  },
  {
   "cell_type": "code",
   "execution_count": 1,
   "id": "1a45d5c0",
   "metadata": {},
   "outputs": [
    {
     "name": "stdout",
     "output_type": "stream",
     "text": [
      "Approximate root: 2.0\n",
      "Function value at root: 0.0\n"
     ]
    }
   ],
   "source": [
    "def bisection_method(func, a, b, error, max_iter):\n",
    "    if func(a) * func(b) >= 0:\n",
    "        raise ValueError(\"Function values at 'a' and 'b' must have different signs.\")\n",
    "    \n",
    "    iter_count = 0\n",
    "    while (b - a) / 2 > error and iter_count < max_iter:\n",
    "        c = (a + b) / 2\n",
    "        if func(c) == 0:\n",
    "            break\n",
    "        elif func(c) * func(a) < 0:\n",
    "            b = c\n",
    "        else:\n",
    "            a = c\n",
    "        iter_count += 1\n",
    "    \n",
    "    return (a + b) / 2\n",
    "\n",
    "# Example usage:\n",
    "def example_function(x):\n",
    "    return x**2 - 4\n",
    "\n",
    "a = 1.0\n",
    "b = 3.0\n",
    "tolerance = 1e-6\n",
    "max_iterations = 100\n",
    "\n",
    "root = bisection_method(example_function, a, b, tolerance, max_iterations)\n",
    "print(\"Approximate root:\", root)\n",
    "print(\"Function value at root:\", example_function(root))\n"
   ]
  },
  {
   "cell_type": "code",
   "execution_count": 2,
   "id": "cb5c5832",
   "metadata": {},
   "outputs": [
    {
     "name": "stdout",
     "output_type": "stream",
     "text": [
      "Approximate root: 2.0\n",
      "Function value at root: 0.0\n"
     ]
    }
   ],
   "source": [
    "def bisection_method(func, a, b, tol):\n",
    "    if func(a) * func(b) >= 0:\n",
    "        raise ValueError(\"Function values at 'a' and 'b' must have different signs.\")\n",
    "    \n",
    "    while (b - a) / 2 > tol:\n",
    "        c = (a + b) / 2\n",
    "        if func(c) == 0:\n",
    "            return c\n",
    "        elif func(c) * func(a) < 0:\n",
    "            b = c\n",
    "        else:\n",
    "            a = c\n",
    "    \n",
    "    return (a + b) / 2\n",
    "\n",
    "# Example usage:\n",
    "def custom_function(x):\n",
    "    return x**3 - 6*x**2 + 11*x - 6\n",
    "\n",
    "a = 0.0\n",
    "b = 4.0\n",
    "tolerance = 1e-5\n",
    "\n",
    "root = bisection_method(custom_function, a, b, tolerance)\n",
    "print(\"Approximate root:\", root)\n",
    "print(\"Function value at root:\", custom_function(root))\n"
   ]
  },
  {
   "cell_type": "code",
   "execution_count": null,
   "id": "604ce2ac",
   "metadata": {},
   "outputs": [],
   "source": []
  }
 ],
 "metadata": {
  "kernelspec": {
   "display_name": "Python 3 (ipykernel)",
   "language": "python",
   "name": "python3"
  },
  "language_info": {
   "codemirror_mode": {
    "name": "ipython",
    "version": 3
   },
   "file_extension": ".py",
   "mimetype": "text/x-python",
   "name": "python",
   "nbconvert_exporter": "python",
   "pygments_lexer": "ipython3",
   "version": "3.9.12"
  }
 },
 "nbformat": 4,
 "nbformat_minor": 5
}
